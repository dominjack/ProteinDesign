{
  "cells": [
    {
      "cell_type": "markdown",
      "metadata": {
        "colab_type": "text",
        "id": "view-in-github"
      },
      "source": [
        "<a href=\"https://colab.research.google.com/github/sokrypton/ColabDesign/blob/main/af_design_tutorial.ipynb\" target=\"_parent\"><img src=\"https://colab.research.google.com/assets/colab-badge.svg\" alt=\"Open In Colab\"/></a>"
      ]
    },
    {
      "cell_type": "markdown",
      "metadata": {
        "id": "IabCAgHR6Xa3"
      },
      "source": [
        "This tutorial has moved to:\n",
        "https://colab.research.google.com/github/sokrypton/ColabDesign/blob/main/af/design.ipynb"
      ]
    }
  ],
  "metadata": {
    "colab": {
      "authorship_tag": "ABX9TyM3Mazv53Et9F6cqnRak08f",
      "include_colab_link": true,
      "provenance": []
    },
    "kernelspec": {
      "display_name": "Python 3.10.7 64-bit (microsoft store)",
      "language": "python",
      "name": "python3"
    },
    "language_info": {
      "name": "python",
      "version": "3.10.7"
    },
    "vscode": {
      "interpreter": {
        "hash": "41089661927f13d2d48588e261e10e17420d4df2e7f07c891c59877dc89d98a8"
      }
    }
  },
  "nbformat": 4,
  "nbformat_minor": 0
}
